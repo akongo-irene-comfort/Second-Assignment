{
 "cells": [
  {
   "cell_type": "markdown",
   "id": "e6ce65c9",
   "metadata": {},
   "source": [
    "OBJECT ORIENTED PROGRAMMING ASSIGNMENT 2"
   ]
  },
  {
   "cell_type": "markdown",
   "id": "c18d99ff",
   "metadata": {},
   "source": [
    "AKONGO IRENE COMFORT"
   ]
  },
  {
   "cell_type": "markdown",
   "id": "5b6d1f80",
   "metadata": {},
   "source": [
    "ACCESS NUMBER 34971  S25M19/001"
   ]
  },
  {
   "cell_type": "markdown",
   "id": "8e0a8cf3",
   "metadata": {},
   "source": [
    "Q1 Electricity Billing Optimization"
   ]
  },
  {
   "cell_type": "markdown",
   "id": "4a893a3e",
   "metadata": {},
   "source": [
    "1.1. Use zip() and map() to pair customer names with total bills computed by a lambda:\n",
    "Domestic rate = 820 UGX/unit\n",
    "Commercial rate = 1000 UGX/unit"
   ]
  },
  {
   "cell_type": "code",
   "execution_count": 41,
   "id": "60a5e0bc",
   "metadata": {},
   "outputs": [
    {
     "name": "stdout",
     "output_type": "stream",
     "text": [
      "ELECTRICTY BILING REPORT\n",
      "==================================================\n",
      "Customer   Type       Units    Total Bill     \n",
      "--------------------------------------------------\n",
      "Bosco      Domestic   245         200,900 UGX\n",
      "Jane       Commercial 400         400,000 UGX\n",
      "David      Domestic   180         147,600 UGX\n",
      "Grace      Commercial 410         410,000 UGX\n",
      "Michael    Domestic   290         237,800 UGX\n",
      "Alice      Domestic   150         123,000 UGX\n",
      "Robert     Commercial 380         380,000 UGX\n",
      "Mary       Domestic   220         180,400 UGX\n",
      "John       Commercial 330         330,000 UGX\n",
      "Susan      Domestic   270         221,400 UGX\n",
      "--------------------------------------------------\n",
      "Total customers: 10\n"
     ]
    }
   ],
   "source": [
    "# Customer electricity consumption data\n",
    "customer_names = ['Bosco', 'Jane', 'David', 'Grace', 'Michael', \n",
    "                 'Alice', 'Robert', 'Mary', 'John', 'Susan']\n",
    "\n",
    "units_used = [245, 400, 180, 410, 290, 150, 380, 220, 330, 270]\n",
    "\n",
    "connection_types = ['Domestic', 'Commercial', 'Domestic', 'Commercial', \n",
    "                   'Domestic', 'Domestic', 'Commercial', 'Domestic', \n",
    "                   'Commercial', 'Domestic']\n",
    "\n",
    "# Electricity rates\n",
    "DOMESTIC_RATE = 820  # UGX per unit\n",
    "COMMERCIAL_RATE = 1000  # UGX per unit\n",
    "\n",
    "# Calculate electricity bills using zip() and map()\n",
    "def calculate_electricity_bills():\n",
    "    # Combine customer data using zip()\n",
    "    customer_data = zip(customer_names, units_used, connection_types)\n",
    "    \n",
    "    # Calculate bills using map() and lambda function\n",
    "    calculate_bill = lambda customer: (\n",
    "        customer[0],  # customer name\n",
    "        customer[1] * DOMESTIC_RATE if customer[2] == 'Domestic' else customer[1] * COMMERCIAL_RATE\n",
    "    )\n",
    "    \n",
    "    billing_results = map(calculate_bill, customer_data)\n",
    "    return list(billing_results)\n",
    "\n",
    "# Generate and display the billing report\n",
    "billing_list = calculate_electricity_bills()\n",
    "\n",
    "print(\"ELECTRICTY BILING REPORT\")\n",
    "print(\"=\" * 50)\n",
    "print(f\"{'Customer':<10} {'Type':<10} {'Units':<8} {'Total Bill':<15}\")\n",
    "print(\"-\" * 50)\n",
    "\n",
    "for customer_name, total_bill in billing_list:\n",
    "    index = customer_names.index(customer_name)\n",
    "    connection_type = connection_types[index]\n",
    "    units = units_used[index]\n",
    "    \n",
    "    print(f\"{customer_name:<10} {connection_type:<10} {units:<8} {total_bill:>10,} UGX\")\n",
    "\n",
    "print(\"-\" * 50)\n",
    "print(f\"Total customers: {len(customer_names)}\")"
   ]
  },
  {
   "cell_type": "markdown",
   "id": "6846a4b1",
   "metadata": {},
   "source": [
    "1.2. Use filters() to separate high-consumption customers (units>500)."
   ]
  },
  {
   "cell_type": "code",
   "execution_count": 42,
   "id": "3122ee95",
   "metadata": {},
   "outputs": [
    {
     "name": "stdout",
     "output_type": "stream",
     "text": [
      "\n",
      "HIGH-CONSUMPTION CUSTOMERS ANALYSIS\n",
      "Consumption threshold: > 500 units\n",
      "=======================================================\n",
      "No customers found with consumption above 500 units.\n",
      "\n",
      "COMPLETE CUSTOMER CONSUMPTION REPORT\n",
      "=================================================================\n",
      "No.  Customer    Units Used  Connection    Consumption Level\n",
      "-----------------------------------------------------------------\n",
      " 1   Bosco               245   Domestic       Normal         \n",
      " 2   Jane                400   Commercial     Normal         \n",
      " 3   David               180   Domestic       Normal         \n",
      " 4   Grace               410   Commercial     Normal         \n",
      " 5   Michael             290   Domestic       Normal         \n",
      " 6   Alice               150   Domestic       Normal         \n",
      " 7   Robert              380   Commercial     Normal         \n",
      " 8   Mary                220   Domestic       Normal         \n",
      " 9   John                330   Commercial     Normal         \n",
      "10   Susan               270   Domestic       Normal         \n",
      "-----------------------------------------------------------------\n",
      "Total customers analyzed: 10\n"
     ]
    }
   ],
   "source": [
    "# Customer electricity consumption data\n",
    "customer_names = ['Bosco', 'Jane', 'David', 'Grace', 'Michael', \n",
    "                 'Alice', 'Robert', 'Mary', 'John', 'Susan']\n",
    "units_used = [245, 400, 180, 410, 290, 150, 380, 220, 330, 270]\n",
    "connection_types = ['Domestic', 'Commercial', 'Domestic', 'Commercial', \n",
    "                   'Domestic', 'Domestic', 'Commercial', 'Domestic', \n",
    "                   'Commercial', 'Domestic']\n",
    "\n",
    "# Combine customer data\n",
    "customer_data = list(zip(customer_names, units_used, connection_types))\n",
    "\n",
    "# Find high-consumption customers using filter()\n",
    "high_consumption_customers = list(filter(lambda customer: customer[1] > 500, customer_data))\n",
    "\n",
    "print(\"\\nHIGH-CONSUMPTION CUSTOMERS ANALYSIS\")\n",
    "print(\"Consumption threshold: > 500 units\")\n",
    "print(\"=\" * 55)\n",
    "\n",
    "if high_consumption_customers:\n",
    "    print(\"No.  Customer    Units Used  Connection    Status\")\n",
    "    print(\"-\" * 55)\n",
    "    for i, (name, units, conn_type) in enumerate(high_consumption_customers, 1):\n",
    "        print(f\"{i:2}   {name:10}   {units:10}   {conn_type:12}   HIGH\")\n",
    "    print(f\"\\nTotal high-consumption customers: {len(high_consumption_customers)}\")\n",
    "else:\n",
    "    print(\"No customers found with consumption above 500 units.\")\n",
    "\n",
    "# Display all customers for complete reference\n",
    "print(\"\\nCOMPLETE CUSTOMER CONSUMPTION REPORT\")\n",
    "print(\"=\" * 65)\n",
    "print(\"No.  Customer    Units Used  Connection    Consumption Level\")\n",
    "print(\"-\" * 65)\n",
    "\n",
    "for i, (name, units, conn_type) in enumerate(customer_data, 1):\n",
    "    status = \"HIGH\" if units > 500 else \"Normal\"\n",
    "    print(f\"{i:2}   {name:10}   {units:10}   {conn_type:12}   {status:15}\")\n",
    "\n",
    "print(\"-\" * 65)\n",
    "print(f\"Total customers analyzed: {len(customer_data)}\")"
   ]
  },
  {
   "cell_type": "markdown",
   "id": "5691b183",
   "metadata": {},
   "source": [
    "1.3. Using *args, write a function average_bills(*bill) that computes the averages"
   ]
  },
  {
   "cell_type": "code",
   "execution_count": 43,
   "id": "f39cf5cd",
   "metadata": {},
   "outputs": [
    {
     "name": "stdout",
     "output_type": "stream",
     "text": [
      "\n",
      "ELECTRICITY BILLS SUMMARY\n",
      "=============================================\n",
      "Number of bills:                10\n",
      "Total amount:           UGX  2,631,100\n",
      "Average bill:           UGX  263110.00\n",
      "---------------------------------------------\n"
     ]
    }
   ],
   "source": [
    "# Function to calculate average electricity bills using *args\n",
    "def average_bills(*bills):\n",
    "    \"\"\"Calculate the average of electricity bills\"\"\"\n",
    "    if not bills:\n",
    "        return 0\n",
    "    return sum(bills) / len(bills)\n",
    "\n",
    "# Customer electricity bills data\n",
    "customer_bills = [200900, 400000, 147600, 410000, 237800, \n",
    "                  123000, 380000, 180400, 330000, 221400]\n",
    "\n",
    "# Calculate average bill using *args\n",
    "average_amount = average_bills(*customer_bills)\n",
    "\n",
    "print(\"\\nELECTRICITY BILLS SUMMARY\")\n",
    "print(\"=\" * 45)\n",
    "print(f\"Number of bills:        {len(customer_bills):>10}\")\n",
    "print(f\"Total amount:           UGX {sum(customer_bills):>10,}\")\n",
    "print(f\"Average bill:           UGX {average_amount:>10.2f}\")\n",
    "print(\"-\" * 45)"
   ]
  },
  {
   "cell_type": "markdown",
   "id": "47ef581f",
   "metadata": {},
   "source": [
    "1.4. Display results using list comprehension in the format: ['Bosco: UGX 200,900', 'Jane: UGX 400,000']"
   ]
  },
  {
   "cell_type": "code",
   "execution_count": 44,
   "id": "73ef216b",
   "metadata": {},
   "outputs": [
    {
     "name": "stdout",
     "output_type": "stream",
     "text": [
      "CUSTOMER ELECTRICITY BILLS\n",
      "----------------------------------------\n",
      "['Bosco: UGX 200,900', 'Jane: UGX 400,000', 'David: UGX 147,600', 'Grace: UGX 410,000', 'Michael: UGX 237,800', 'Alice: UGX 123,000', 'Robert: UGX 380,000', 'Mary: UGX 180,400', 'John: UGX 330,000', 'Susan: UGX 221,400']\n"
     ]
    }
   ],
   "source": [
    "# Customer data\n",
    "customer_names = ['Bosco', 'Jane', 'David', 'Grace', 'Michael', \n",
    "                 'Alice', 'Robert', 'Mary', 'John', 'Susan']\n",
    "units_used = [245, 400, 180, 410, 290, 150, 380, 220, 330, 270]\n",
    "connection_types = ['Domestic', 'Commercial', 'Domestic', 'Commercial', \n",
    "                   'Domestic', 'Domestic', 'Commercial', 'Domestic', \n",
    "                   'Commercial', 'Domestic']\n",
    "\n",
    "# Calculate bills using list comprehension\n",
    "DOMESTIC_RATE = 820\n",
    "COMMERCIAL_RATE = 1000\n",
    "\n",
    "# Calculate bills and format output using list comprehension\n",
    "customer_bills = [\n",
    "    f\"{name}: UGX {units * DOMESTIC_RATE if conn_type == 'Domestic' else units * COMMERCIAL_RATE:,}\"\n",
    "    for name, units, conn_type in zip(customer_names, units_used, connection_types)\n",
    "]\n",
    "\n",
    "print(\"CUSTOMER ELECTRICITY BILLS\")\n",
    "print(\"-\" * 40)\n",
    "print(customer_bills)"
   ]
  },
  {
   "cell_type": "markdown",
   "id": "72e8fbf0",
   "metadata": {},
   "source": [
    "Question 2: Market Basket Price Aggregator"
   ]
  },
  {
   "cell_type": "markdown",
   "id": "d6b01a51",
   "metadata": {},
   "source": [
    "2.1 Use zip_longest() to handle missing prices."
   ]
  },
  {
   "cell_type": "code",
   "execution_count": 45,
   "id": "bba28b68",
   "metadata": {},
   "outputs": [
    {
     "name": "stdout",
     "output_type": "stream",
     "text": [
      "DAILY FRUIT PRICES FROM DIFFERENT VENDORS\n",
      "--------------------------------------------------\n",
      "Day  Mango   Orange  Apple\n",
      "------------------------------\n",
      " 1     2500    3000    4500\n",
      " 2     2700    3200    4600\n",
      " 3     2600    3100    4550\n",
      " 4     2800    3050    4700\n"
     ]
    }
   ],
   "source": [
    "from itertools import zip_longest\n",
    "\n",
    "mango_prices = [2500, 2700, 2600, 2800]\n",
    "orange_prices = [3000, 3200, 3100, 3050]\n",
    "apple_prices = [4500, 4600, 4550, 4700]\n",
    "\n",
    "# Use zip_longest to handle different list lengths\n",
    "all_prices = zip_longest(mango_prices, orange_prices, apple_prices, fillvalue=\"No price\")\n",
    "\n",
    "print(\"DAILY FRUIT PRICES FROM DIFFERENT VENDORS\")\n",
    "print(\"-\" * 50)\n",
    "print(\"Day  Mango   Orange  Apple\")\n",
    "print(\"-\" * 30)\n",
    "\n",
    "for day, (mango, orange, apple) in enumerate(all_prices, 1):\n",
    "    print(f\"{day:2}   {mango:>6}  {orange:>6}  {apple:>6}\")"
   ]
  },
  {
   "cell_type": "markdown",
   "id": "0e07b1cb",
   "metadata": {},
   "source": [
    "2.2 Define a lambda function avg = lambda lst: sum(lst)/len(lst) to compute average per fruit"
   ]
  },
  {
   "cell_type": "code",
   "execution_count": 46,
   "id": "fc5fa1e8",
   "metadata": {},
   "outputs": [
    {
     "name": "stdout",
     "output_type": "stream",
     "text": [
      "AVERAGE FRUIT PRICES\n",
      "=========================\n",
      "Mango:  2,650 UGX\n",
      "Orange: 3,088 UGX\n",
      "Apple:  4,588 UGX\n"
     ]
    }
   ],
   "source": [
    "# Daily fruit prices from different vendors\n",
    "mango_prices = [2500, 2700, 2600, 2800]\n",
    "orange_prices = [3000, 3200, 3100, 3050]\n",
    "apple_prices = [4500, 4600, 4550, 4700]\n",
    "\n",
    "# Lambda function to calculate average price\n",
    "avg = lambda prices: sum(prices) / len(prices)\n",
    "\n",
    "# Calculate average prices for each fruit\n",
    "mango_avg = avg(mango_prices)\n",
    "orange_avg = avg(orange_prices)\n",
    "apple_avg = avg(apple_prices)\n",
    "\n",
    "print(\"AVERAGE FRUIT PRICES\")\n",
    "print(\"=\" * 25)\n",
    "print(f\"Mango:  {mango_avg:,.0f} UGX\")\n",
    "print(f\"Orange: {orange_avg:,.0f} UGX\")\n",
    "print(f\"Apple:  {apple_avg:,.0f} UGX\")"
   ]
  },
  {
   "cell_type": "markdown",
   "id": "fc0cd2b7",
   "metadata": {},
   "source": [
    "2.3 Create a generator expression that yeilds all fruits with average price bove 3000."
   ]
  },
  {
   "cell_type": "code",
   "execution_count": 47,
   "id": "86191da4",
   "metadata": {},
   "outputs": [
    {
     "name": "stdout",
     "output_type": "stream",
     "text": [
      "FRUITS WITH AVERAGE PRICE ABOVE 3,000 UGX\n",
      "========================================\n",
      "Orange: 3,088 UGX\n",
      "Apple: 4,588 UGX\n"
     ]
    }
   ],
   "source": [
    "# Lambda function for average calculation\n",
    "avg = lambda prices: sum(prices) / len(prices)\n",
    "\n",
    "# Generator expression for fruits with average price above 3000\n",
    "high_price_fruits = (\n",
    "    (fruit, avg(prices)) \n",
    "    for fruit, prices in [('Mango', mango_prices), \n",
    "                         ('Orange', orange_prices), \n",
    "                         ('Apple', apple_prices)] \n",
    "    if avg(prices) > 3000\n",
    ")\n",
    "\n",
    "print(\"FRUITS WITH AVERAGE PRICE ABOVE 3,000 UGX\")\n",
    "print(\"=\" * 40)\n",
    "\n",
    "for fruit, average_price in high_price_fruits:\n",
    "    print(f\"{fruit}: {average_price:,.0f} UGX\")"
   ]
  },
  {
   "cell_type": "markdown",
   "id": "30d045ca",
   "metadata": {},
   "source": [
    "2.4 print the generator's results neatly as: fruits above average price: Mango, Orange, Apple"
   ]
  },
  {
   "cell_type": "code",
   "execution_count": 48,
   "id": "fc94fb18",
   "metadata": {},
   "outputs": [
    {
     "name": "stdout",
     "output_type": "stream",
     "text": [
      "Fruits above average price: Orange, Apple\n"
     ]
    }
   ],
   "source": [
    "# Lambda function for average calculation\n",
    "avg = lambda prices: sum(prices) / len(prices)\n",
    "\n",
    "# Generator expression for fruits with average price above 3000\n",
    "high_price_fruits = (\n",
    "    fruit\n",
    "    for fruit, prices in [('Mango', mango_prices), \n",
    "                         ('Orange', orange_prices), \n",
    "                         ('Apple', apple_prices)] \n",
    "    if avg(prices) > 3000\n",
    ")\n",
    "\n",
    "print(\"Fruits above average price:\", \", \".join(high_price_fruits))"
   ]
  },
  {
   "cell_type": "markdown",
   "id": "411b0a5d",
   "metadata": {},
   "source": [
    "Question 3: District Temperature Tracker"
   ]
  },
  {
   "cell_type": "markdown",
   "id": "6e922127",
   "metadata": {},
   "source": [
    "3.1 use map() with lambda to convert all temperatures to Fahrenheit"
   ]
  },
  {
   "cell_type": "code",
   "execution_count": 49,
   "id": "f895f7ee",
   "metadata": {},
   "outputs": [
    {
     "name": "stdout",
     "output_type": "stream",
     "text": [
      "DISTRICT TEMPERATURES CONVERTED TO FAHRENHEIT\n",
      "==============================================\n",
      "Kampala (°F):   ['82.4', '86.0', '84.2', '80.6', '78.8', '84.2', '86.0', '87.8', '89.6', '86.0', '84.2', '82.4']\n",
      "Gulu (°F):      ['77.0', '78.8', '80.6', '80.6', '82.4', '84.2', '86.0', '86.0', '84.2', '80.6', '78.8', '77.0']\n",
      "Mbarara (°F):   ['71.6', '73.4', '73.4', '75.2', '77.0', '77.0', '78.8', '80.6', '80.6', '78.8', '75.2', '73.4']\n"
     ]
    }
   ],
   "source": [
    "# Temperature data in Celsius\n",
    "kampala = [28, 30, 29, 27, 26, 29, 30, 31, 32, 30, 29, 28]\n",
    "gulu = [25, 26, 27, 27, 28, 29, 30, 30, 29, 27, 26, 25]\n",
    "mbarara = [22, 23, 23, 24, 25, 25, 26, 27, 27, 26, 24, 23]\n",
    "\n",
    "# Lambda function to convert Celsius to Fahrenheit\n",
    "celsius_to_fahrenheit = lambda c: (c * 9/5) + 32\n",
    "\n",
    "# Convert all temperatures using map()\n",
    "kampala_f = list(map(celsius_to_fahrenheit, kampala))\n",
    "gulu_f = list(map(celsius_to_fahrenheit, gulu))\n",
    "mbarara_f = list(map(celsius_to_fahrenheit, mbarara))\n",
    "\n",
    "print(\"DISTRICT TEMPERATURES CONVERTED TO FAHRENHEIT\")\n",
    "print(\"=\" * 46)\n",
    "print(\"Kampala (°F):  \", [f\"{temp:.1f}\" for temp in kampala_f])\n",
    "print(\"Gulu (°F):     \", [f\"{temp:.1f}\" for temp in gulu_f])\n",
    "print(\"Mbarara (°F):  \", [f\"{temp:.1f}\" for temp in mbarara_f])"
   ]
  },
  {
   "cell_type": "markdown",
   "id": "a8429bf5",
   "metadata": {},
   "source": [
    "3.2 use zip() to pair month (Jan-Dec) with Kampala temps."
   ]
  },
  {
   "cell_type": "code",
   "execution_count": 50,
   "id": "6dfe2754",
   "metadata": {},
   "outputs": [
    {
     "name": "stdout",
     "output_type": "stream",
     "text": [
      "KAMPALA MONTHLY TEMPERATURES\n",
      "------------------------------\n",
      "Jan: 28°C\n",
      "Feb: 30°C\n",
      "Mar: 29°C\n",
      "Apr: 27°C\n",
      "May: 26°C\n",
      "Jun: 29°C\n",
      "Jul: 30°C\n",
      "Aug: 31°C\n",
      "Sep: 32°C\n",
      "Oct: 30°C\n",
      "Nov: 29°C\n",
      "Dec: 28°C\n"
     ]
    }
   ],
   "source": [
    "# Temperature data\n",
    "kampala = [28, 30, 29, 27, 26, 29, 30, 31, 32, 30, 29, 28]\n",
    "months = ['Jan', 'Feb', 'Mar', 'Apr', 'May', 'Jun', \n",
    "          'Jul', 'Aug', 'Sep', 'Oct', 'Nov', 'Dec']\n",
    "\n",
    "# Use zip() to pair months with Kampala temperatures\n",
    "monthly_temps = list(zip(months, kampala))\n",
    "\n",
    "print(\"KAMPALA MONTHLY TEMPERATURES\")\n",
    "print(\"-\" * 30)\n",
    "for month, temp in monthly_temps:\n",
    "    print(f\"{month}: {temp}°C\")"
   ]
  },
  {
   "cell_type": "markdown",
   "id": "226b66d4",
   "metadata": {},
   "source": [
    "3.3 Use filter() to identify months with temperature > 30°C"
   ]
  },
  {
   "cell_type": "code",
   "execution_count": 51,
   "id": "7e098f8d",
   "metadata": {},
   "outputs": [
    {
     "name": "stdout",
     "output_type": "stream",
     "text": [
      "MONTHS WITH TEMPERATURE ABOVE 30°C\n",
      "-----------------------------------\n",
      "\n",
      "KAMPALA:\n",
      "  Aug: 31°C\n",
      "  Sep: 32°C\n",
      "\n",
      "GULU:\n",
      "  No months above 30°C\n",
      "\n",
      "MBARARA:\n",
      "  No months above 30°C\n"
     ]
    }
   ],
   "source": [
    "# Temperature data\n",
    "kampala = [28, 30, 29, 27, 26, 29, 30, 31, 32, 30, 29, 28]\n",
    "gulu = [25, 26, 27, 27, 28, 29, 30, 30, 29, 27, 26, 25]\n",
    "mbarara = [22, 23, 23, 24, 25, 25, 26, 27, 27, 26, 24, 23]\n",
    "months = ['Jan', 'Feb', 'Mar', 'Apr', 'May', 'Jun', \n",
    "          'Jul', 'Aug', 'Sep', 'Oct', 'Nov', 'Dec']\n",
    "\n",
    "# Pair months with temperatures for all districts\n",
    "kampala_temps = list(zip(months, kampala))\n",
    "gulu_temps = list(zip(months, gulu))\n",
    "mbarara_temps = list(zip(months, mbarara))\n",
    "\n",
    "# Use filter() to find months with temperature > 30°C for each district\n",
    "kampala_hot = list(filter(lambda mt: mt[1] > 30, kampala_temps))\n",
    "gulu_hot = list(filter(lambda mt: mt[1] > 30, gulu_temps))\n",
    "mbarara_hot = list(filter(lambda mt: mt[1] > 30, mbarara_temps))\n",
    "\n",
    "print(\"MONTHS WITH TEMPERATURE ABOVE 30°C\")\n",
    "print(\"-\" * 35)\n",
    "\n",
    "print(\"\\nKAMPALA:\")\n",
    "if kampala_hot:\n",
    "    for month, temp in kampala_hot:\n",
    "        print(f\"  {month}: {temp}°C\")\n",
    "else:\n",
    "    print(\"  No months above 30°C\")\n",
    "\n",
    "print(\"\\nGULU:\")\n",
    "if gulu_hot:\n",
    "    for month, temp in gulu_hot:\n",
    "        print(f\"  {month}: {temp}°C\")\n",
    "else:\n",
    "    print(\"  No months above 30°C\")\n",
    "\n",
    "print(\"\\nMBARARA:\")\n",
    "if mbarara_hot:\n",
    "    for month, temp in mbarara_hot:\n",
    "        print(f\"  {month}: {temp}°C\")\n",
    "else:\n",
    "    print(\"  No months above 30°C\")"
   ]
  },
  {
   "cell_type": "markdown",
   "id": "7df127a3",
   "metadata": {},
   "source": [
    "3.4 create a generator to yield months names and temperature above threhold."
   ]
  },
  {
   "cell_type": "code",
   "execution_count": 52,
   "id": "2c31d7dd",
   "metadata": {},
   "outputs": [
    {
     "name": "stdout",
     "output_type": "stream",
     "text": [
      "MONTHS WITH TEMPERATURE ABOVE 30°C\n",
      "-----------------------------------\n",
      "Aug: 31°C\n",
      "Sep: 32°C\n"
     ]
    }
   ],
   "source": [
    "# Temperature data\n",
    "kampala = [28, 30, 29, 27, 26, 29, 30, 31, 32, 30, 29, 28]\n",
    "months = ['Jan', 'Feb', 'Mar', 'Apr', 'May', 'Jun', \n",
    "          'Jul', 'Aug', 'Sep', 'Oct', 'Nov', 'Dec']\n",
    "\n",
    "# Generator expression for months with temperatures above 30°C\n",
    "hot_months = ((month, temp) for month, temp in zip(months, kampala) if temp > 30)\n",
    "\n",
    "print(\"MONTHS WITH TEMPERATURE ABOVE 30°C\")\n",
    "print(\"-\" * 35)\n",
    "\n",
    "for month, temp in hot_months:\n",
    "    print(f\"{month}: {temp}°C\")"
   ]
  },
  {
   "cell_type": "markdown",
   "id": "871597e9",
   "metadata": {},
   "source": [
    "3.5 Print as: Hot months in Kampala: July - 31°C, August - 32°C"
   ]
  },
  {
   "cell_type": "code",
   "execution_count": 53,
   "id": "afdf865c",
   "metadata": {},
   "outputs": [
    {
     "name": "stdout",
     "output_type": "stream",
     "text": [
      "Hot months in Kampala: Aug - 31°C, Sep - 32°C\n"
     ]
    }
   ],
   "source": [
    "# Temperature data\n",
    "kampala = [28, 30, 29, 27, 26, 29, 30, 31, 32, 30, 29, 28]\n",
    "months = ['Jan', 'Feb', 'Mar', 'Apr', 'May', 'Jun', \n",
    "          'Jul', 'Aug', 'Sep', 'Oct', 'Nov', 'Dec']\n",
    "\n",
    "# Generator expression for months with temperatures above 30°C\n",
    "hot_months = ((month, temp) for month, temp in zip(months, kampala) if temp > 30)\n",
    "\n",
    "# Create formatted string\n",
    "hot_months_list = [f\"{month} - {temp}°C\" for month, temp in hot_months]\n",
    "result = \", \".join(hot_months_list)\n",
    "\n",
    "print(f\"Hot months in Kampala: {result}\")"
   ]
  },
  {
   "cell_type": "markdown",
   "id": "72febf43",
   "metadata": {},
   "source": [
    "Question 4: School Fees Payment Analyzer"
   ]
  },
  {
   "cell_type": "markdown",
   "id": "c39fa4d8",
   "metadata": {},
   "source": [
    "4.1. Write a lambda function that sums valid payments and ignores zeros."
   ]
  },
  {
   "cell_type": "code",
   "execution_count": 54,
   "id": "8c464bee",
   "metadata": {},
   "outputs": [
    {
     "name": "stdout",
     "output_type": "stream",
     "text": [
      "Alex: 600,000 UGX\n",
      "Grace: 700,000 UGX\n",
      "Sarah: 900,000 UGX\n",
      "Brian: 500,000 UGX\n"
     ]
    }
   ],
   "source": [
    "# Installment data\n",
    "students = ['Alex', 'Grace', 'Sarah', 'Brian']\n",
    "installments = [\n",
    "    [150000, 200000, 250000],\n",
    "    [500000, 0, 200000],\n",
    "    [300000, 300000, 300000],\n",
    "    [400000, 100000, 0]\n",
    "]\n",
    "\n",
    "# Lambda function to sum valid payments and ignore zeros\n",
    "sum_valid_payments = lambda payments: sum(payment for payment in payments if payment > 0)\n",
    "\n",
    "for student, payments in zip(students, installments):\n",
    "    total_paid = sum_valid_payments(payments)\n",
    "    print(f\"{student}: {total_paid:,} UGX\")"
   ]
  },
  {
   "cell_type": "markdown",
   "id": "ea5dba50",
   "metadata": {},
   "source": [
    "4.2. Use map() to compute total paid by each student."
   ]
  },
  {
   "cell_type": "code",
   "execution_count": 55,
   "id": "47aeec76",
   "metadata": {},
   "outputs": [
    {
     "name": "stdout",
     "output_type": "stream",
     "text": [
      "Alex: 600,000 UGX\n",
      "Grace: 700,000 UGX\n",
      "Sarah: 900,000 UGX\n",
      "Brian: 500,000 UGX\n"
     ]
    }
   ],
   "source": [
    "# Use map() to compute total paid by each student\n",
    "total_payments = list(map(lambda payments: sum(payments), installments))\n",
    "\n",
    "for student, total in zip(students, total_payments):\n",
    "    print(f\"{student}: {total:,} UGX\")"
   ]
  },
  {
   "cell_type": "markdown",
   "id": "ccf20978",
   "metadata": {},
   "source": [
    "4.3. Combine student names and totals using zip()"
   ]
  },
  {
   "cell_type": "code",
   "execution_count": 56,
   "id": "3454eae8",
   "metadata": {},
   "outputs": [
    {
     "name": "stdout",
     "output_type": "stream",
     "text": [
      "STUDENT PAYMENT TOTALS\n",
      "----------------------\n",
      "Alex: 600,000 UGX\n",
      "Grace: 700,000 UGX\n",
      "Sarah: 900,000 UGX\n",
      "Brian: 500,000 UGX\n"
     ]
    }
   ],
   "source": [
    "# Use map() to compute total paid by each student\n",
    "total_payments = list(map(lambda payments: sum(payments), installments))\n",
    "\n",
    "# Combine student names and totals using zip()\n",
    "student_totals = list(zip(students, total_payments))\n",
    "\n",
    "print(\"STUDENT PAYMENT TOTALS\")\n",
    "print(\"-\" * 22)\n",
    "\n",
    "for student, total in student_totals:\n",
    "    print(f\"{student}: {total:,} UGX\")"
   ]
  },
  {
   "cell_type": "markdown",
   "id": "a8b301b0",
   "metadata": {},
   "source": [
    "4.4. use filter() to find students who have cleared full fees (≥600,000)."
   ]
  },
  {
   "cell_type": "code",
   "execution_count": 57,
   "id": "b3fa6ba9",
   "metadata": {},
   "outputs": [
    {
     "name": "stdout",
     "output_type": "stream",
     "text": [
      "STUDENTS WHO CLEARED FULL FEES (≥600,000 UGX)\n",
      "---------------------------------------------\n",
      "Alex: 600,000 UGX\n",
      "Grace: 700,000 UGX\n",
      "Sarah: 900,000 UGX\n"
     ]
    }
   ],
   "source": [
    "# Use filter() to find students who have cleared full fees (>=600,000)\n",
    "cleared_fees = list(filter(lambda student_total: student_total[1] >= 600000, student_totals))\n",
    "\n",
    "print(\"STUDENTS WHO CLEARED FULL FEES (≥600,000 UGX)\")\n",
    "print(\"-\" * 45)\n",
    "\n",
    "for student, total in cleared_fees:\n",
    "    print(f\"{student}: {total:,} UGX\")"
   ]
  },
  {
   "cell_type": "markdown",
   "id": "41524b12",
   "metadata": {},
   "source": [
    "4.5. Create payment_summary(**kwargs) that receives named args like Alex = 600000 and prints summaries."
   ]
  },
  {
   "cell_type": "code",
   "execution_count": 63,
   "id": "b967187d",
   "metadata": {},
   "outputs": [
    {
     "name": "stdout",
     "output_type": "stream",
     "text": [
      "PAYMENT SUMMARY\n",
      "------------------------------------\n",
      "Alex: 600,000 UGX - fully paid\n",
      "Grace: 700,000 UGX - fully paid\n",
      "Sarah: 900,000 UGX - fully paid\n",
      "Brian: 500,000 UGX - partial payment\n"
     ]
    }
   ],
   "source": [
    "# Function that receives named arguments and prints summaries\n",
    "def payment_summary(**kwargs):\n",
    "    print(\"PAYMENT SUMMARY\")\n",
    "    print(\"-\" * 36)\n",
    "    \n",
    "    for student, amount in kwargs.items():\n",
    "        status = \"fully paid\" if amount >= 600000 else \"partial payment\"\n",
    "        print(f\"{student}: {amount:,} UGX - {status}\")\n",
    "\n",
    "# Example usage with student payments\n",
    "payment_summary(\n",
    "    Alex=600000,\n",
    "    Grace=700000, \n",
    "    Sarah=900000,\n",
    "    Brian=500000\n",
    ")"
   ]
  },
  {
   "cell_type": "markdown",
   "id": "8ccde75b",
   "metadata": {},
   "source": [
    "Question 5: Agriculture yield Estimator"
   ]
  },
  {
   "cell_type": "markdown",
   "id": "4ea52fac",
   "metadata": {},
   "source": [
    "5.1. use a list comprehension with a lambda to convert yields from kg to tons."
   ]
  },
  {
   "cell_type": "code",
   "execution_count": 2,
   "id": "a6dc3ce1",
   "metadata": {},
   "outputs": [
    {
     "name": "stdout",
     "output_type": "stream",
     "text": [
      "AGRICULTURAL YIELD IN TONS\n",
      "==============================\n",
      "Bushenyi: 1.2 tons\n",
      "Mityana: 1.5 tons\n",
      "Kasese: 0.9 tons\n",
      "Mbale: 1.3 tons\n"
     ]
    }
   ],
   "source": [
    "# Yield data\n",
    "districts = ['Bushenyi', 'Mityana', 'Kasese', 'Mbale']\n",
    "yield_data = [1200, 1500, 900, 1300]\n",
    "\n",
    "# List comprehension with lambda to convert kg to tons\n",
    "yield_tons = [(lambda kg: kg / 1000)(kg) for kg in yield_data]\n",
    "\n",
    "print(\"AGRICULTURAL YIELD IN TONS\")\n",
    "print(\"=\" * 30)\n",
    "\n",
    "for district, tons in zip(districts, yield_tons):\n",
    "    print(f\"{district}: {tons:.1f} tons\")"
   ]
  },
  {
   "cell_type": "markdown",
   "id": "b3d7ade3",
   "metadata": {},
   "source": [
    "5.2. write a generator that yield only districts with yield > 1 ton."
   ]
  },
  {
   "cell_type": "code",
   "execution_count": 3,
   "id": "1f656453",
   "metadata": {},
   "outputs": [
    {
     "name": "stdout",
     "output_type": "stream",
     "text": [
      "DISTRICTS WITH YIELD ABOVE 1 TON\n",
      "===================================\n",
      "Bushenyi\n",
      "Mityana\n",
      "Mbale\n"
     ]
    }
   ],
   "source": [
    "# Yield data\n",
    "districts = ['Bushenyi', 'Mityana', 'Kasese', 'Mbale']\n",
    "yield_data = [1200, 1500, 900, 1300]\n",
    "\n",
    "# Generator that yields only districts with yields > 1 ton\n",
    "high_yield_districts = (district for district, yield_kg in zip(districts, yield_data) if yield_kg > 1000)\n",
    "\n",
    "print(\"DISTRICTS WITH YIELD ABOVE 1 TON\")\n",
    "print(\"=\" * 35)\n",
    "\n",
    "for district in high_yield_districts:\n",
    "    print(district)"
   ]
  },
  {
   "cell_type": "markdown",
   "id": "83311080",
   "metadata": {},
   "source": [
    "5.3. Use *args to compute average yeild across all districts"
   ]
  },
  {
   "cell_type": "code",
   "execution_count": 4,
   "id": "2a9a8607",
   "metadata": {},
   "outputs": [
    {
     "name": "stdout",
     "output_type": "stream",
     "text": [
      "AVERAGE AGRICULTURAL YIELD\n",
      "==============================\n",
      "Average yield: 1,225 kg\n",
      "Average yield: 1.2 tons\n"
     ]
    }
   ],
   "source": [
    "# Function using *args to compute average yield\n",
    "def average_yield(*yields):\n",
    "    if not yields:\n",
    "        return 0\n",
    "    return sum(yields) / len(yields)\n",
    "\n",
    "# Calculate average yield across all districts\n",
    "avg_yield = average_yield(*yield_data)\n",
    "\n",
    "print(\"AVERAGE AGRICULTURAL YIELD\")\n",
    "print(\"=\" * 30)\n",
    "print(f\"Average yield: {avg_yield:,.0f} kg\")\n",
    "print(f\"Average yield: {avg_yield/1000:.1f} tons\")"
   ]
  },
  {
   "cell_type": "markdown",
   "id": "78806b81",
   "metadata": {},
   "source": [
    "5.4 use **kwargs to silulate price changes per district and compute revenue (tons * price)."
   ]
  },
  {
   "cell_type": "code",
   "execution_count": 10,
   "id": "1e273ec5",
   "metadata": {},
   "outputs": [
    {
     "name": "stdout",
     "output_type": "stream",
     "text": [
      "DISTRICT REVENUE CALCULATION\n",
      "=======================================================\n",
      "Bushenyi: 1.2 tons × 2,400,000 UGX/ton = 2,880,000 UGX\n",
      "Mityana: 1.5 tons × 2,800,000 UGX/ton = 4,200,000 UGX\n",
      "Kasese: 0.9 tons × 2,200,000 UGX/ton = 1,980,000 UGX\n",
      "Mbale: 1.3 tons × 2,500,000 UGX/ton = 3,250,000 UGX\n"
     ]
    }
   ],
   "source": [
    "# Function using **kwargs to compute revenue with price changes\n",
    "def compute_revenue(**prices):\n",
    "    print(\"DISTRICT REVENUE CALCULATION\")\n",
    "    print(\"=\" * 55)\n",
    "    \n",
    "    for district, price_per_ton in prices.items():\n",
    "        # Get the yield for this district\n",
    "        district_index = districts.index(district)\n",
    "        yield_kg = yield_data[district_index]\n",
    "        yield_tons = yield_kg / 1000\n",
    "        \n",
    "        # Calculate revenue\n",
    "        revenue = yield_tons * price_per_ton\n",
    "        \n",
    "        print(f\"{district}: {yield_tons:.1f} tons × {price_per_ton:,} UGX/ton = {revenue:,.0f} UGX\")\n",
    "\n",
    "# Example usage with different prices per district\n",
    "compute_revenue(\n",
    "    Bushenyi=2400000,\n",
    "    Mityana=2800000,\n",
    "    Kasese=2200000,\n",
    "    Mbale=2500000\n",
    ")"
   ]
  },
  {
   "cell_type": "markdown",
   "id": "fce78718",
   "metadata": {},
   "source": [
    "5.5. Print formatted output like: Kases produced 0.9 tons - Revenue: UGX 4,500,000."
   ]
  },
  {
   "cell_type": "code",
   "execution_count": 12,
   "id": "11a22f52",
   "metadata": {},
   "outputs": [
    {
     "name": "stdout",
     "output_type": "stream",
     "text": [
      "DISTRICT PRODUCTION AND REVENUE\n",
      "====================================================\n",
      "Bushenyi produced 1.2 tons - Revenue: UGX 2,880,000.\n",
      "Mityana produced 1.5 tons - Revenue: UGX 4,200,000.\n",
      "Kasese produced 0.9 tons - Revenue: UGX 1,980,000.\n",
      "Mbale produced 1.3 tons - Revenue: UGX 3,250,000.\n"
     ]
    }
   ],
   "source": [
    "# Yield data\n",
    "districts = ['Bushenyi', 'Mityana', 'Kasese', 'Mbale']\n",
    "yield_data = [1200, 1500, 900, 1300]\n",
    "prices = [2400000, 2800000, 2200000, 2500000]\n",
    "\n",
    "print(\"DISTRICT PRODUCTION AND REVENUE\")\n",
    "print(\"=\" * 52)\n",
    "\n",
    "for district, yield_kg, price in zip(districts, yield_data, prices):\n",
    "    yield_tons = yield_kg / 1000\n",
    "    revenue = yield_tons * price\n",
    "    print(f\"{district} produced {yield_tons:.1f} tons - Revenue: UGX {revenue:,.0f}.\")"
   ]
  },
  {
   "cell_type": "markdown",
   "id": "3e4cb95e",
   "metadata": {},
   "source": [
    "Question 6: Web Data Aggregation"
   ]
  },
  {
   "cell_type": "markdown",
   "id": "896a23ff",
   "metadata": {},
   "source": [
    "6.1 Write a function that takes *urls and uses requests.get() to return response codes"
   ]
  },
  {
   "cell_type": "code",
   "execution_count": 13,
   "id": "a7cf03df",
   "metadata": {},
   "outputs": [
    {
     "name": "stdout",
     "output_type": "stream",
     "text": [
      "Collecting requests\n",
      "  Downloading requests-2.32.5-py3-none-any.whl.metadata (4.9 kB)\n",
      "Collecting charset_normalizer<4,>=2 (from requests)\n",
      "  Downloading charset_normalizer-3.4.4-cp313-cp313-win_amd64.whl.metadata (38 kB)\n",
      "Collecting idna<4,>=2.5 (from requests)\n",
      "  Downloading idna-3.11-py3-none-any.whl.metadata (8.4 kB)\n",
      "Collecting urllib3<3,>=1.21.1 (from requests)\n",
      "  Downloading urllib3-2.5.0-py3-none-any.whl.metadata (6.5 kB)\n",
      "Collecting certifi>=2017.4.17 (from requests)\n",
      "  Downloading certifi-2025.10.5-py3-none-any.whl.metadata (2.5 kB)\n",
      "Downloading requests-2.32.5-py3-none-any.whl (64 kB)\n",
      "Downloading charset_normalizer-3.4.4-cp313-cp313-win_amd64.whl (107 kB)\n",
      "Downloading idna-3.11-py3-none-any.whl (71 kB)\n",
      "Downloading urllib3-2.5.0-py3-none-any.whl (129 kB)\n",
      "Downloading certifi-2025.10.5-py3-none-any.whl (163 kB)\n",
      "Installing collected packages: urllib3, idna, charset_normalizer, certifi, requests\n",
      "\n",
      "   -------- ------------------------------- 1/5 [idna]\n",
      "   -------------------------------- ------- 4/5 [requests]\n",
      "   ---------------------------------------- 5/5 [requests]\n",
      "\n",
      "Successfully installed certifi-2025.10.5 charset_normalizer-3.4.4 idna-3.11 requests-2.32.5 urllib3-2.5.0\n",
      "Note: you may need to restart the kernel to use updated packages.\n"
     ]
    }
   ],
   "source": [
    "pip install requests"
   ]
  },
  {
   "cell_type": "code",
   "execution_count": 14,
   "id": "d793a2dc",
   "metadata": {},
   "outputs": [
    {
     "name": "stdout",
     "output_type": "stream",
     "text": [
      "WEBSITE STATUS CHECK\n",
      "========================================\n",
      "https://ucu.ac.ug - Status: 200\n",
      "https://harba.ug - Status: 200\n",
      "https://www.bou.or.ug - Status: 200\n"
     ]
    }
   ],
   "source": [
    "import requests\n",
    "\n",
    "def check_url_status(*urls):\n",
    "    \"\"\"Check response codes for multiple URLs\"\"\"\n",
    "    print(\"WEBSITE STATUS CHECK\")\n",
    "    print(\"=\" * 40)\n",
    "    \n",
    "    for url in urls:\n",
    "        try:\n",
    "            response = requests.get(url)\n",
    "            print(f\"{url} - Status: {response.status_code}\")\n",
    "        except requests.exceptions.RequestException:\n",
    "            print(f\"{url} - Status: Failed to connect\")\n",
    "\n",
    "# Check the websites\n",
    "check_url_status(\n",
    "    'https://ucu.ac.ug',\n",
    "    'https://harba.ug', \n",
    "    'https://www.bou.or.ug'\n",
    ")"
   ]
  },
  {
   "cell_type": "markdown",
   "id": "60caa458",
   "metadata": {},
   "source": [
    "6.2 Use a list comprehension to print only URLs with status code 200"
   ]
  },
  {
   "cell_type": "code",
   "execution_count": 15,
   "id": "c4dd1eea",
   "metadata": {},
   "outputs": [
    {
     "name": "stdout",
     "output_type": "stream",
     "text": [
      "WORKING WEBSITES (Status 200)\n",
      "===================================\n",
      "https://ucu.ac.ug\n",
      "https://harba.ug\n",
      "https://www.bou.or.ug\n"
     ]
    }
   ],
   "source": [
    "import requests\n",
    "\n",
    "def get_working_urls(*urls):\n",
    "    \"\"\"Get only URLs that return status code 200\"\"\"\n",
    "    working_urls = [\n",
    "        url for url in urls \n",
    "        if requests.get(url).status_code == 200\n",
    "    ]\n",
    "    return working_urls\n",
    "\n",
    "# Check which websites are working\n",
    "sites = ['https://ucu.ac.ug', 'https://harba.ug', 'https://www.bou.or.ug']\n",
    "working_sites = get_working_urls(*sites)\n",
    "\n",
    "print(\"WORKING WEBSITES (Status 200)\")\n",
    "print(\"=\" * 35)\n",
    "\n",
    "for url in working_sites:\n",
    "    print(url)"
   ]
  },
  {
   "cell_type": "markdown",
   "id": "6268bf05",
   "metadata": {},
   "source": [
    "6.3 Store results in a dictionay using a dictionary comprehension."
   ]
  },
  {
   "cell_type": "code",
   "execution_count": 16,
   "id": "4e7c3431",
   "metadata": {},
   "outputs": [
    {
     "name": "stdout",
     "output_type": "stream",
     "text": [
      "WEBSITE STATUS CODES\n",
      "===================================\n",
      "https://ucu.ac.ug: 200\n",
      "https://harba.ug: 200\n",
      "https://www.bou.or.ug: 200\n"
     ]
    }
   ],
   "source": [
    "import requests\n",
    "\n",
    "# Dictionary comprehension to store URL and status code\n",
    "site_status = {\n",
    "    url: requests.get(url).status_code \n",
    "    for url in sites\n",
    "}\n",
    "\n",
    "print(\"WEBSITE STATUS CODES\")\n",
    "print(\"=\" * 35)\n",
    "\n",
    "for url, status in site_status.items():\n",
    "    print(f\"{url}: {status}\")"
   ]
  },
  {
   "cell_type": "markdown",
   "id": "5523b075",
   "metadata": {},
   "source": [
    "6.4 create a generator expression that yields 'Active Site: <url>' for reachable domains"
   ]
  },
  {
   "cell_type": "code",
   "execution_count": 17,
   "id": "91734980",
   "metadata": {},
   "outputs": [
    {
     "name": "stdout",
     "output_type": "stream",
     "text": [
      "ACTIVE WEBSITES\n",
      "==============================\n",
      "Active Site: https://ucu.ac.ug\n",
      "Active Site: https://harba.ug\n",
      "Active Site: https://www.bou.or.ug\n"
     ]
    }
   ],
   "source": [
    "import requests\n",
    "\n",
    "# Generator expression that yields active sites\n",
    "active_sites = (\n",
    "    f\"Active Site: {url}\" \n",
    "    for url in sites \n",
    "    if requests.get(url).status_code == 200\n",
    ")\n",
    "\n",
    "print(\"ACTIVE WEBSITES\")\n",
    "print(\"=\" * 30)\n",
    "\n",
    "for site in active_sites:\n",
    "    print(site)"
   ]
  }
 ],
 "metadata": {
  "kernelspec": {
   "display_name": "Python 3",
   "language": "python",
   "name": "python3"
  },
  "language_info": {
   "codemirror_mode": {
    "name": "ipython",
    "version": 3
   },
   "file_extension": ".py",
   "mimetype": "text/x-python",
   "name": "python",
   "nbconvert_exporter": "python",
   "pygments_lexer": "ipython3",
   "version": "3.13.7"
  }
 },
 "nbformat": 4,
 "nbformat_minor": 5
}
